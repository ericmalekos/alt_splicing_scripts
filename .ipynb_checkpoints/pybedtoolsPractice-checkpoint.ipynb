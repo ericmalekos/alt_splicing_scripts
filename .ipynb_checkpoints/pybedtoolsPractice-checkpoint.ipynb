{
 "cells": [
  {
   "cell_type": "code",
   "execution_count": 77,
   "id": "da7d38d6",
   "metadata": {},
   "outputs": [],
   "source": [
    "import pybedtools as pbt"
   ]
  },
  {
   "cell_type": "code",
   "execution_count": 78,
   "id": "16403784",
   "metadata": {
    "scrolled": true
   },
   "outputs": [],
   "source": [
    "def fillBlanks(bedIn, sortedGTFIn):\n",
    "    genes = pbt.BedTool(sortedGTFIn)\n",
    "    with open(bedIn, 'r') as bed:\n",
    "        for line in bed.readlines():\n",
    "            split_line = line.strip().split(\"\\t\")\n",
    "            if split_line[3].startswith(\"chr\"):\n",
    "                bed_entry = pbt.BedTool(line, from_string=True)\n",
    "                closest = bed_entry.closest(genes, s=False, d=True)\n",
    "                overlapping_genes = []\n",
    "                for entry in closest:\n",
    "                    overlapping_genes.append(str(entry).split()[-6][1:-2])\n",
    "                    print(entry)\n",
    "                split_line[3] = \",\".join(overlapping_genes) + split_line[3][-3:]\n",
    "                print(\"\\t\".join(split_line))\n",
    "            else:\n",
    "                print(line.strip())"
   ]
  },
  {
   "cell_type": "code",
   "execution_count": 79,
   "id": "13957238",
   "metadata": {
    "scrolled": true
   },
   "outputs": [
    {
     "name": "stdout",
     "output_type": "stream",
     "text": [
      "chr10\t51494846\t51495993\tXLOC_003411;N\t0.000043\t.\n",
      "chr10\t51494846\t51495956\tRP23-325K4.1,RP23-202A18.4,Lilrb4a6;N\t0.00005\t.\n",
      "chr14\t47373953\t47377851\tXLOC_012994;N\t0.012271\t.\n",
      "chr14\t47373953\t47379522\tXLOC_012994;N\t0.01748\t.\n"
     ]
    },
    {
     "name": "stderr",
     "output_type": "stream",
     "text": [
      "***** WARNING: File /home/eric/Projects/Annotations/GENES_ONLY_sorted.gencode.vM18.primary_assembly.annotation has inconsistent naming convention for record:\n",
      "GL456210.1\tENSEMBL\tgene\t9124\t58882\t.\t-\t.\tgene_id \"ENSMUSG00000079800.2\"; gene_type \"protein_coding\"; gene_name \"AC125149.3\"; level 3;\n",
      "\n",
      "***** WARNING: File /home/eric/Projects/Annotations/GENES_ONLY_sorted.gencode.vM18.primary_assembly.annotation has inconsistent naming convention for record:\n",
      "GL456210.1\tENSEMBL\tgene\t9124\t58882\t.\t-\t.\tgene_id \"ENSMUSG00000079800.2\"; gene_type \"protein_coding\"; gene_name \"AC125149.3\"; level 3;\n",
      "\n"
     ]
    }
   ],
   "source": [
    "sortedGTF = '/home/eric/Projects/Annotations/GENES_ONLY_sorted.gencode.vM18.primary_assembly.annotation'\n",
    "bedIn = '/home/eric/Projects/COPD/Splicing/Getting_all_spliced_genes/drimResults_alternative_acceptor.tsv.bed'\n",
    "\n",
    "fillBlanks(bedIn=bedIn, sortedGTFIn=sortedGTF) "
   ]
  }
 ],
 "metadata": {
  "kernelspec": {
   "display_name": "Python 3 (ipykernel)",
   "language": "python",
   "name": "python3"
  },
  "language_info": {
   "codemirror_mode": {
    "name": "ipython",
    "version": 3
   },
   "file_extension": ".py",
   "mimetype": "text/x-python",
   "name": "python",
   "nbconvert_exporter": "python",
   "pygments_lexer": "ipython3",
   "version": "3.9.4"
  }
 },
 "nbformat": 4,
 "nbformat_minor": 5
}
