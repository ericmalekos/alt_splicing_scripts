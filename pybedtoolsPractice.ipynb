{
 "cells": [
  {
   "cell_type": "code",
   "execution_count": 77,
   "id": "da7d38d6",
   "metadata": {},
   "outputs": [],
   "source": [
    "import pybedtools as pbt"
   ]
  },
  {
   "cell_type": "code",
   "execution_count": 104,
   "id": "16403784",
   "metadata": {
    "scrolled": true
   },
   "outputs": [],
   "source": [
    "def fillBlanks(bedIn, sortedGTFIn):\n",
    "    genes = pbt.BedTool(sortedGTFIn)\n",
    "    with open(bedIn, 'r') as bed:\n",
    "        for line in bed.readlines():\n",
    "            split_line = line.strip().split(\"\\t\")\n",
    "            if split_line[3].startswith(\"chr\"):\n",
    "                bed_entry = pbt.BedTool(line, from_string=True)\n",
    "                closest = bed_entry.closest(genes, s=False, d=True)\n",
    "                overlapping_genes = []\n",
    "                for entry in closest:\n",
    "                    overlapping_genes.append(str(entry).split(\"gene_name\")[1].split(\";\")[0].strip().strip(\"\\\"\"))\n",
    "                    #print(entry)\n",
    "                split_line[3] = \",\".join(overlapping_genes)\n",
    "                print(split_line[3])\n",
    "                print(\"\\t\".join(split_line))\n",
    "            else:\n",
    "                print(line.strip())"
   ]
  },
  {
   "cell_type": "code",
   "execution_count": 89,
   "id": "4daf9a3b",
   "metadata": {},
   "outputs": [],
   "source": [
    "line = \"chr11\t106782694\t106783958\tchr11:106782694-106783958\t0.000011\t.\"\n",
    "bed_entry = pbt.BedTool(line, from_string=True)"
   ]
  },
  {
   "cell_type": "code",
   "execution_count": 94,
   "id": "0dc1a369",
   "metadata": {
    "scrolled": true
   },
   "outputs": [
    {
     "name": "stderr",
     "output_type": "stream",
     "text": [
      "***** WARNING: File /home/eric/Projects/Annotations/GENES_ONLY_sorted.gencode.vM18.primary_assembly.annotation has inconsistent naming convention for record:\n",
      "GL456210.1\tENSEMBL\tgene\t9124\t58882\t.\t-\t.\tgene_id \"ENSMUSG00000079800.2\"; gene_type \"protein_coding\"; gene_name \"AC125149.3\"; level 3;\n",
      "\n",
      "***** WARNING: File /home/eric/Projects/Annotations/GENES_ONLY_sorted.gencode.vM18.primary_assembly.annotation has inconsistent naming convention for record:\n",
      "GL456210.1\tENSEMBL\tgene\t9124\t58882\t.\t-\t.\tgene_id \"ENSMUSG00000079800.2\"; gene_type \"protein_coding\"; gene_name \"AC125149.3\"; level 3;\n",
      "\n"
     ]
    }
   ],
   "source": [
    "genes = pbt.BedTool(sortedGTF)\n",
    "closest = bed_entry.closest(genes, s=False, d=True)\n",
    "b"
   ]
  },
  {
   "cell_type": "code",
   "execution_count": 106,
   "id": "4a1293e0",
   "metadata": {},
   "outputs": [
    {
     "name": "stdout",
     "output_type": "stream",
     "text": [
      "Ddx5\n"
     ]
    }
   ],
   "source": [
    "print(str(closest).split(\"gene_name\")[1].split(\";\")[0].strip().strip(\"\\\"\"))"
   ]
  },
  {
   "cell_type": "code",
   "execution_count": 105,
   "id": "13957238",
   "metadata": {
    "scrolled": true
   },
   "outputs": [
    {
     "name": "stdout",
     "output_type": "stream",
     "text": [
      "Ddx5,Mir3064,Gm25994\n",
      "chr11\t106782694\t106783958\tDdx5,Mir3064,Gm25994\t0.000011\t.\n",
      "Dnase1l1\n",
      "chrX\t74274469\t74276478\tDnase1l1\t0.009595\t.\n"
     ]
    },
    {
     "name": "stderr",
     "output_type": "stream",
     "text": [
      "***** WARNING: File /home/eric/Projects/Annotations/GENES_ONLY_sorted.gencode.vM18.primary_assembly.annotation has inconsistent naming convention for record:\n",
      "GL456210.1\tENSEMBL\tgene\t9124\t58882\t.\t-\t.\tgene_id \"ENSMUSG00000079800.2\"; gene_type \"protein_coding\"; gene_name \"AC125149.3\"; level 3;\n",
      "\n",
      "***** WARNING: File /home/eric/Projects/Annotations/GENES_ONLY_sorted.gencode.vM18.primary_assembly.annotation has inconsistent naming convention for record:\n",
      "GL456210.1\tENSEMBL\tgene\t9124\t58882\t.\t-\t.\tgene_id \"ENSMUSG00000079800.2\"; gene_type \"protein_coding\"; gene_name \"AC125149.3\"; level 3;\n",
      "\n",
      "***** WARNING: File /home/eric/Projects/Annotations/GENES_ONLY_sorted.gencode.vM18.primary_assembly.annotation has inconsistent naming convention for record:\n",
      "GL456210.1\tENSEMBL\tgene\t9124\t58882\t.\t-\t.\tgene_id \"ENSMUSG00000079800.2\"; gene_type \"protein_coding\"; gene_name \"AC125149.3\"; level 3;\n",
      "\n",
      "***** WARNING: File /home/eric/Projects/Annotations/GENES_ONLY_sorted.gencode.vM18.primary_assembly.annotation has inconsistent naming convention for record:\n",
      "GL456210.1\tENSEMBL\tgene\t9124\t58882\t.\t-\t.\tgene_id \"ENSMUSG00000079800.2\"; gene_type \"protein_coding\"; gene_name \"AC125149.3\"; level 3;\n",
      "\n"
     ]
    }
   ],
   "source": [
    "sortedGTF = '/home/eric/Projects/Annotations/GENES_ONLY_sorted.gencode.vM18.primary_assembly.annotation'\n",
    "#bedIn = '/home/eric/Projects/COPD/Splicing/Getting_all_spliced_genes/drimResults_alternative_acceptor.tsv.bed'\n",
    "bedIn = '/home/eric/Projects/COPD/Splicing/Getting_all_spliced_genes/troubleshoot.bed'\n",
    "\n",
    "fillBlanks(bedIn=bedIn, sortedGTFIn=sortedGTF) "
   ]
  }
 ],
 "metadata": {
  "kernelspec": {
   "display_name": "Python 3 (ipykernel)",
   "language": "python",
   "name": "python3"
  },
  "language_info": {
   "codemirror_mode": {
    "name": "ipython",
    "version": 3
   },
   "file_extension": ".py",
   "mimetype": "text/x-python",
   "name": "python",
   "nbconvert_exporter": "python",
   "pygments_lexer": "ipython3",
   "version": "3.9.4"
  }
 },
 "nbformat": 4,
 "nbformat_minor": 5
}
